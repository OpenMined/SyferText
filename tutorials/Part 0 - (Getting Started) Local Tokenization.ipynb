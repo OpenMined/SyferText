{
 "cells": [
  {
   "cell_type": "markdown",
   "metadata": {},
   "source": [
    "# Getting Started: Local Tokenization\n",
    "----------"
   ]
  },
  {
   "cell_type": "markdown",
   "metadata": {},
   "source": [
    "In this tutorial, you will learn about a very simple use case when using SyferText to tokenize a python `str` or a PySyft `String` residing on a local PySyft worker (No remote workers are involved). \n",
    "\n",
    "In addition to tokenization, you will also learn how to access the vector embedding of each resulting token."
   ]
  },
  {
   "cell_type": "markdown",
   "metadata": {},
   "source": [
    "#### Author\n"
   ]
  },
  {
   "cell_type": "markdown",
   "metadata": {},
   "source": [
    "- `Alan Aboudib`  -> [@alan_aboudib](https://twitter.com/alan_aboudib) (Twitter)"
   ]
  },
  {
   "cell_type": "markdown",
   "metadata": {},
   "source": [
    "-----------------------\n",
    "\n",
    "## 1. `SyferText`'s local architecture\n",
    "\n",
    "-------------------"
   ]
  },
  {
   "cell_type": "markdown",
   "metadata": {},
   "source": [
    "SyferText's architecture is inspired by that of [spaCy](https://spacy.io/). If you are familiar with spaCy, you should feel familiar with the way SyferText works.\n",
    "\n",
    "However, unlike spaCy, SyferText is designed to leverage [PySyft](https://github.com/OpenMined/PySyft)'s ability to work with remote workers and of course to enforce privacy when designing NLP deep learning models.\n",
    "\n",
    "In this tutorial, we will focus on the local worker case. Using SyferText for remote string tokenizations is  discussed in [another tutorial](https://bit.ly/37VEJ28) that you can check out.\n",
    "\n",
    "Here is the architecture of SyferText when used for tokenizing strings on the local worker."
   ]
  },
  {
   "cell_type": "markdown",
   "metadata": {},
   "source": [
    "![SyferText architecture: local case](art/syfertext_local.png \"SyferText architecture on the local worker\")\n"
   ]
  },
  {
   "cell_type": "markdown",
   "metadata": {},
   "source": [
    "As you can notice from the above figure, a few steps are involved in the process of tokenization:\n",
    "\n",
    "1. An object of the `Language` class is instantiated when a a language model is loaded by calling the `load()` method. \n",
    "\n",
    "2. When given a PySyft `String` or a Python `str`, the `Language` object spawns a `Tokenizer` object.\n",
    "\n",
    "3. The tokenizer breaks that string down into `Token` objects. \n",
    "\n",
    "4. The `Doc` object keeps track of those tokens. \n",
    "\n",
    "In the below example, you will see what attributes such `Token` objects have. "
   ]
  },
  {
   "cell_type": "markdown",
   "metadata": {},
   "source": [
    "-----------------------\n",
    "\n",
    "## 2. Tokenizing a Python `str` object\n",
    "\n",
    "-------------------"
   ]
  },
  {
   "cell_type": "markdown",
   "metadata": {},
   "source": [
    "Let's first import SyferText. Since SyferText is based on PySyft, we also need to import the latter, as well as PyTorch:"
   ]
  },
  {
   "cell_type": "code",
   "execution_count": 1,
   "metadata": {},
   "outputs": [],
   "source": [
    "# Hide warnings (nothing to do with SyferText)\n",
    "import warnings\n",
    "warnings.filterwarnings('ignore')"
   ]
  },
  {
   "cell_type": "code",
   "execution_count": 1,
   "metadata": {},
   "outputs": [
    {
     "name": "stderr",
     "output_type": "stream",
     "text": [
      "WARNING:root:Torch was already hooked... skipping hooking process\n",
      "WARNING:root:Torch was already hooked... skipping hooking process\n",
      "WARNING:root:Torch was already hooked... skipping hooking process\n"
     ]
    }
   ],
   "source": [
    "import syft as sy\n",
    "import torch\n",
    "import syfertext\n",
    "from syfertext.local_pipeline import get_test_language_model"
   ]
  },
  {
   "cell_type": "markdown",
   "metadata": {},
   "source": [
    "We now need to hook PyTorch using the TorchHook in PySyft"
   ]
  },
  {
   "cell_type": "code",
   "execution_count": 2,
   "metadata": {},
   "outputs": [
    {
     "name": "stderr",
     "output_type": "stream",
     "text": [
      "WARNING:root:Torch was already hooked... skipping hooking process\n"
     ]
    }
   ],
   "source": [
    "hook = sy.TorchHook(torch)"
   ]
  },
  {
   "cell_type": "markdown",
   "metadata": {},
   "source": [
    "This will endow PyTorch with magic powers, privacy-preserving deep learning powers, such as Federated Learning, Differential Privacy, encrypted training and more. To learn more about PySyft, you can check out its awesome [tutorial notebooks](https://github.com/OpenMined/PySyft/tree/master/examples/tutorials)."
   ]
  },
  {
   "cell_type": "markdown",
   "metadata": {},
   "source": [
    "\n",
    "Every machine in PySyft is called a worker. Since we are using SyferText to tokenize a string on our local machine, then we should get an instance of the object representing that worker, let's call it 'me':"
   ]
  },
  {
   "cell_type": "code",
   "execution_count": 3,
   "metadata": {},
   "outputs": [],
   "source": [
    "me = hook.local_worker\n",
    "me.is_client_worker = False"
   ]
  },
  {
   "cell_type": "markdown",
   "metadata": {},
   "source": [
    "We are now ready to load the language model. The only language model available for the moment in SyferText is `en_core_web_lg`, which is a model for English language simplified from spaCy's language model with the same name. Check out the  properties of that model [here](https://spacy.io/models/en#en_core_web_lg)."
   ]
  },
  {
   "cell_type": "code",
   "execution_count": 4,
   "metadata": {},
   "outputs": [
    {
     "data": {
      "text/plain": [
       "(syfertext.language.Language, <VirtualWorker id:me #objects:3>)"
      ]
     },
     "execution_count": 4,
     "metadata": {},
     "output_type": "execute_result"
    }
   ],
   "source": [
    "nlp = get_test_language_model()\n",
    "\n",
    "type(nlp), nlp.owner"
   ]
  },
  {
   "cell_type": "markdown",
   "metadata": {},
   "source": [
    "Notice from the cell's output that the `nlp` variable is an object of the `Language` class, and similar to all PySyft objects, it has an owner, which is a PySyft `VirtualWorker` representing our local machine. "
   ]
  },
  {
   "cell_type": "markdown",
   "metadata": {},
   "source": [
    "Let's define a python native `str` object and tokenize it using the `Language` object we created:"
   ]
  },
  {
   "cell_type": "code",
   "execution_count": 9,
   "metadata": {},
   "outputs": [
    {
     "data": {
      "text/plain": [
       "(syfertext.doc.Doc, <VirtualWorker id:me #objects:5>, 14)"
      ]
     },
     "execution_count": 9,
     "metadata": {},
     "output_type": "execute_result"
    }
   ],
   "source": [
    "my_str = 'Dr. doom! is  ({token-izing a python! string'\n",
    "\n",
    "# Tokenization happens here\n",
    "doc = nlp(my_str)\n",
    "\n",
    "# A Doc object is returned\n",
    "type(doc), doc.owner, len(doc)"
   ]
  },
  {
   "cell_type": "markdown",
   "metadata": {},
   "source": [
    "Notice that calling the `Language` object with the `str` object we defined as an argument returns a `Doc` object (a document object). The latter is also a PySyft object that has an owner (the local worker in this case)."
   ]
  },
  {
   "cell_type": "markdown",
   "metadata": {},
   "source": [
    "In order to get access to `Token` objects, we can simply iterate through the `Doc` object. Again, if you know spaCy, this should be familiar to you:"
   ]
  },
  {
   "cell_type": "code",
   "execution_count": 6,
   "metadata": {
    "scrolled": true
   },
   "outputs": [
    {
     "name": "stdout",
     "output_type": "stream",
     "text": [
      "       Dr. |  True | 5994646854147611801\n",
      "      doom | False | 10674991973279043832\n",
      "         ! |  True | 16404382787692791222\n",
      "        is |  True | 13706566957105553947\n",
      "           | False | 16436286012227642228\n",
      "         ( | False | 6305030001287944198\n",
      "         { | False | 4258439968037348084\n",
      "     token | False | 12977505502605755571\n",
      "         - | False | 2717267605663978886\n",
      "     izing |  True | 7913766558530700748\n",
      "         a |  True | 5182201742351716208\n",
      "    python | False | 17162076245381424065\n",
      "         ! |  True | 16404382787692791222\n",
      "    string | False | 13891782705740509576\n"
     ]
    }
   ],
   "source": [
    "for token in doc:\n",
    "    print('%10s | %5s | %s'%(token, token.space_after, token.orth))"
   ]
  },
  {
   "cell_type": "markdown",
   "metadata": {},
   "source": [
    "You can see that `Token` objects can be used to get access to the underlying string, to whether that string is followed by a space or not in the original sentence, and to the string's hash. We can also get the vector embedding for each token using the vector attribute.\n"
   ]
  },
  {
   "cell_type": "markdown",
   "metadata": {},
   "source": [
    "Get off-the-shelf token vectors of the third word of the original sentence"
   ]
  },
  {
   "cell_type": "markdown",
   "metadata": {},
   "source": [
    "So we tokenized a python native string, let's now do the same with a PySyft `String`."
   ]
  },
  {
   "cell_type": "markdown",
   "metadata": {},
   "source": [
    "-----------------------\n",
    "\n",
    "## 3. Tokenizing a PySyft `String` object\n",
    "\n",
    "-------------------"
   ]
  },
  {
   "cell_type": "markdown",
   "metadata": {},
   "source": [
    "PySyft has its own string type which is basically a wrapper around the native `str` type with additional PySyft magic such as the ability to send a string to a remote worker and to manipulate it from the comfort of the local worker. We are not going to discuss this here since we are only doing local string tokenization. \n",
    "\n",
    "Let's import the PySyft's `String` class:"
   ]
  },
  {
   "cell_type": "code",
   "execution_count": 19,
   "metadata": {},
   "outputs": [],
   "source": [
    "from syft.generic.string import String"
   ]
  },
  {
   "cell_type": "markdown",
   "metadata": {},
   "source": [
    "Let's now define a PySyft `String` to tokenize:"
   ]
  },
  {
   "cell_type": "code",
   "execution_count": 20,
   "metadata": {},
   "outputs": [
    {
     "data": {
      "text/plain": [
       "(syft.generic.string.String, <VirtualWorker id:me #objects:0>)"
      ]
     },
     "execution_count": 20,
     "metadata": {},
     "output_type": "execute_result"
    }
   ],
   "source": [
    "my_string = String('I am token#izing a PySyft String object')\n",
    "\n",
    "type(my_string), my_string.owner"
   ]
  },
  {
   "cell_type": "markdown",
   "metadata": {},
   "source": [
    "Notice that the PySyft `String` is owned by the local worker."
   ]
  },
  {
   "cell_type": "markdown",
   "metadata": {},
   "source": [
    "Let's now use the `Language` object we created earlier to tokenize it:"
   ]
  },
  {
   "cell_type": "code",
   "execution_count": 21,
   "metadata": {},
   "outputs": [
    {
     "name": "stdout",
     "output_type": "stream",
     "text": [
      "         I |  True | 5943131912006430202\n",
      "        am |  True | 11728213064939857863\n",
      "token#izing |  True | 5371500643362927579\n",
      "         a |  True | 5182201742351716208\n",
      "    PySyft |  True | 13286865392898898656\n",
      "    String |  True | 13847508276233069841\n",
      "    object | False | 10176415242575268008\n"
     ]
    }
   ],
   "source": [
    "doc = nlp(my_string)\n",
    "\n",
    "for token in doc:\n",
    "    print('%10s | %5s | %s'%(token, token.space_after, token.orth))"
   ]
  },
  {
   "cell_type": "markdown",
   "metadata": {},
   "source": [
    "You will also be able to get the embedding vector using the `vector` attribute. Pretty convenient right? Using either a PySyft `string` or a `str` object does not change the way SyferText is used."
   ]
  },
  {
   "cell_type": "markdown",
   "metadata": {},
   "source": [
    "### That's it!"
   ]
  },
  {
   "cell_type": "markdown",
   "metadata": {},
   "source": [
    "You should have a better sense of how SyferText works on a local worker by now. However, keep in mind that SyferText is still in its early developement phase. Things are evolving and more features will be added soon."
   ]
  },
  {
   "cell_type": "markdown",
   "metadata": {},
   "source": [
    "If you have any questions or suggestions, you can DM me on OpenMined's [slack channel](http://slack.openmined.org/), or otherwise directly on my [Twitter page](https://twitter.com/alan_aboudib)."
   ]
  }
 ],
 "metadata": {
  "kernelspec": {
   "display_name": "Python 3",
   "language": "python",
   "name": "python3"
  },
  "language_info": {
   "codemirror_mode": {
    "name": "ipython",
    "version": 3
   },
   "file_extension": ".py",
   "mimetype": "text/x-python",
   "name": "python",
   "nbconvert_exporter": "python",
   "pygments_lexer": "ipython3",
   "version": "3.7.8"
  }
 },
 "nbformat": 4,
 "nbformat_minor": 4
}
