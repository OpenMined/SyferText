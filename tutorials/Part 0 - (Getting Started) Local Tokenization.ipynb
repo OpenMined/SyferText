{
 "cells": [
  {
   "cell_type": "markdown",
   "metadata": {},
   "source": [
    "# Getting Started: Local Tokenization\n",
    "----------"
   ]
  },
  {
   "cell_type": "markdown",
   "metadata": {},
   "source": [
    "In this tutorial, you will learn about a very simple use case when using SyferText to tokenize a python `str` or a PySyft `String` residing on a local PySyft worker (No remote workers are involved). \n",
    "\n",
    "In addition to tokenization, you will also learn how to access the vector embedding of each resulting token."
   ]
  },
  {
   "cell_type": "markdown",
   "metadata": {},
   "source": [
    "#### Author\n"
   ]
  },
  {
   "cell_type": "markdown",
   "metadata": {},
   "source": [
    "- `Alan Aboudib`  -> [@alan_aboudib](https://twitter.com/alan_aboudib) (Twitter)"
   ]
  },
  {
   "cell_type": "markdown",
   "metadata": {},
   "source": [
    "-----------------------\n",
    "\n",
    "## 1. `SyferText`'s local architecture\n",
    "\n",
    "-------------------"
   ]
  },
  {
   "cell_type": "markdown",
   "metadata": {},
   "source": [
    "SyferText's architecture is inspired by that of [spaCy](https://spacy.io/). If you are familiar with spaCy, you should feel familiar with the way SyferText works.\n",
    "\n",
    "However, unlike spaCy, SyferText is designed to leverage [PySyft](https://github.com/OpenMined/PySyft)'s ability to work with remote workers and of course to enforce privacy when designing NLP deep learning models.\n",
    "\n",
    "In this tutorial, we will focus on the local worker case. Using SyferText for remote string tokenizations is  discussed in [another tutorial](https://bit.ly/37VEJ28) that you can check out.\n",
    "\n",
    "Here is the architecture of SyferText when used for tokenizing strings on the local worker."
   ]
  },
  {
   "cell_type": "markdown",
   "metadata": {},
   "source": [
    "![SyferText architecture: local case](art/syfertext_local.png \"SyferText architecture on the local worker\")\n"
   ]
  },
  {
   "cell_type": "markdown",
   "metadata": {},
   "source": [
    "As you can notice from the above figure, a few steps are involved in the process of tokenization:\n",
    "\n",
    "1. An object of the `Language` class is instantiated when a a language model is loaded by calling the `load()` method. \n",
    "\n",
    "2. When given a PySyft `String` or a Python `str`, the `Language` object spawns a `Tokenizer` object.\n",
    "\n",
    "3. The tokenizer breaks that string down into `Token` objects. \n",
    "\n",
    "4. The `Doc` object keeps track of those tokens. \n",
    "\n",
    "In the below example, you will see what attributes such `Token` objects have. "
   ]
  },
  {
   "cell_type": "markdown",
   "metadata": {},
   "source": [
    "-----------------------\n",
    "\n",
    "## 2. Tokenizing a Python `str` object\n",
    "\n",
    "-------------------"
   ]
  },
  {
   "cell_type": "markdown",
   "metadata": {},
   "source": [
    "Let's first import SyferText. Since SyferText is based on PySyft, we also need to import the latter, as well as PyTorch:"
   ]
  },
  {
   "cell_type": "code",
   "execution_count": 1,
   "metadata": {},
   "outputs": [],
   "source": [
    "# Hide warnings (nothing to do with SyferText)\n",
    "import warnings\n",
    "warnings.filterwarnings('ignore')"
   ]
  },
  {
   "cell_type": "code",
   "execution_count": 2,
   "metadata": {},
   "outputs": [
    {
     "name": "stderr",
     "output_type": "stream",
     "text": [
      "WARNING:root:Torch was already hooked... skipping hooking process\n",
      "WARNING:root:Torch was already hooked... skipping hooking process\n"
     ]
    }
   ],
   "source": [
    "import syft as sy\n",
    "import torch\n",
    "import syfertext"
   ]
  },
  {
   "cell_type": "markdown",
   "metadata": {},
   "source": [
    "We now need to hook PyTorch using the TorchHook in PySyft"
   ]
  },
  {
   "cell_type": "code",
   "execution_count": 3,
   "metadata": {},
   "outputs": [
    {
     "name": "stderr",
     "output_type": "stream",
     "text": [
      "WARNING:root:Torch was already hooked... skipping hooking process\n"
     ]
    }
   ],
   "source": [
    "hook = sy.TorchHook(torch)"
   ]
  },
  {
   "cell_type": "markdown",
   "metadata": {},
   "source": [
    "This will endow PyTorch with magic powers, privacy-preserving deep learning powers, such as Federated Learning, Differential Privacy, encrypted training and more. To learn more about PySyft, you can check out its awesome [tutorial notebooks](https://github.com/OpenMined/PySyft/tree/master/examples/tutorials)."
   ]
  },
  {
   "cell_type": "markdown",
   "metadata": {},
   "source": [
    "\n",
    "Every machine in PySyft is called a worker. Since we are using SyferText to tokenize a string on our local machine, then we should get an instance of the object representing that worker, let's call it 'me':"
   ]
  },
  {
   "cell_type": "code",
   "execution_count": 4,
   "metadata": {},
   "outputs": [],
   "source": [
    "me = hook.local_worker"
   ]
  },
  {
   "cell_type": "markdown",
   "metadata": {},
   "source": [
    "We are now ready to load the language model. The only language model available for the moment in SyferText is `en_core_web_lg`, which is a model for English language simplified from spaCy's language model with the same name. Check out the  properties of that model [here](https://spacy.io/models/en#en_core_web_lg)."
   ]
  },
  {
   "cell_type": "code",
   "execution_count": 5,
   "metadata": {},
   "outputs": [
    {
     "data": {
      "text/plain": [
       "(syfertext.language.Language, <VirtualWorker id:me #objects:0>)"
      ]
     },
     "execution_count": 5,
     "metadata": {},
     "output_type": "execute_result"
    }
   ],
   "source": [
    "nlp = syfertext.load('en_core_web_lg', owner = me)\n",
    "\n",
    "type(nlp), nlp.owner"
   ]
  },
  {
   "cell_type": "markdown",
   "metadata": {},
   "source": [
    "Notice from the cell's output that the `nlp` variable is an object of the `Language` class, and similar to all PySyft objects, it has an owner, which is a PySyft `VirtualWorker` representing our local machine. "
   ]
  },
  {
   "cell_type": "markdown",
   "metadata": {},
   "source": [
    "Let's define a python native `str` object and tokenize it using the `Language` object we created:"
   ]
  },
  {
   "cell_type": "code",

   "execution_count": 15,

   "metadata": {},
   "outputs": [
    {
     "data": {
      "text/plain": [
       "(syfertext.doc.Doc, <VirtualWorker id:me #objects:0>, 14)"
      ]
     },

     "execution_count": 15,

     "metadata": {},
     "output_type": "execute_result"
    }
   ],
   "source": [
    "my_str = 'Dr. doom! is  ({token-izing a python! string'\n",
    "\n",
    "# Tokenization happens here\n",
    "doc = nlp(my_str)\n",
    "\n",
    "# A Doc object is returned\n",
    "type(doc), doc.owner, len(doc)"
   ]
  },
  {
   "cell_type": "markdown",
   "metadata": {},
   "source": [
    "Notice that calling the `Language` object with the `str` object we defined as an argument returns a `Doc` object (a document object). The latter is also a PySyft object that has an owner (the local worker in this case)."
   ]
  },
  {
   "cell_type": "markdown",
   "metadata": {},
   "source": [
    "In order to get access to `Token` objects, we can simply iterate through the `Doc` object. Again, if you know spaCy, this should be familiar to you:"
   ]
  },
  {
   "cell_type": "code",

   "execution_count": 16,

   "metadata": {
    "scrolled": true
   },
   "outputs": [
    {
     "name": "stdout",
     "output_type": "stream",
     "text": [

      "       Dr. |  True | 5994646854147611801\n",
      "      doom | False | 10674991973279043832\n",
      "         ! |  True | 16404382787692791222\n",
      "        is |  True | 13706566957105553947\n",
      "           | False | 16436286012227642228\n",
      "         ( | False | 6305030001287944198\n",
      "         { | False | 4258439968037348084\n",
      "     token | False | 12977505502605755571\n",
      "         - | False | 2717267605663978886\n",
      "     izing |  True | 7913766558530700748\n",
      "         a |  True | 5182201742351716208\n",
      "    python | False | 17162076245381424065\n",
      "         ! |  True | 16404382787692791222\n",
      "    string | False | 13891782705740509576\n"
     ]
    }
   ],
   "source": [
    "for token in doc:\n",
    "    print('%10s | %5s | %s'%(token, token.space_after, token.orth))"
   ]
  },
  {
   "cell_type": "markdown",
   "metadata": {},
   "source": [
    "You can see that `Token` objects can be used to get access to the underlying string, to whether that string is followed by a space or not in the original sentence, and to the string's hash. We can also get the vector embedding for each token using the vector attribute.\n"
   ]
  },
  {
   "cell_type": "markdown",
   "metadata": {},
   "source": [
    "Get off-the-shelf token vectors of the third word of the original sentence"
   ]
  },
  {
   "cell_type": "code",

   "execution_count": 17,

   "metadata": {},
   "outputs": [
    {
     "name": "stdout",
     "output_type": "stream",
     "text": [
      "!\n"
     ]
    }
   ],
   "source": [
    "print(doc[2])"
   ]
  },
  {
   "cell_type": "code",

   "execution_count": 18,

   "metadata": {
    "scrolled": true
   },
   "outputs": [
    {
     "data": {
      "text/plain": [
       "array([-2.6554e-01,  3.3531e-01,  2.1860e-01, -3.0100e-01, -5.5470e-02,\n",
       "       -2.4236e-01,  1.7236e-01, -1.6334e-01, -1.0900e-01,  1.2671e+00,\n",
       "       -3.3449e-01,  2.0911e-01, -1.0205e-02,  2.7530e-01, -1.8455e-01,\n",
       "        1.7111e-02, -3.7401e-02,  1.3706e+00, -1.7785e-01, -1.5351e-01,\n",
       "        9.9583e-02, -3.1839e-01,  7.7433e-02,  4.9495e-02, -5.3451e-02,\n",
       "       -3.4892e-02,  1.6875e-01,  2.8741e-02,  2.0523e-01, -1.0273e-01,\n",
       "        1.2935e-01,  3.5585e-01,  4.0188e-03,  7.9254e-02,  2.4425e-01,\n",
       "        2.7667e-01,  8.0892e-02,  3.0308e-01, -8.5076e-02,  1.0352e-03,\n",
       "        1.2730e-01,  1.1868e-01,  2.0868e-01, -1.4019e-01,  2.4865e-01,\n",
       "        3.1383e-01, -5.5654e-01,  8.6916e-02,  4.0284e-01,  3.6714e-02,\n",
       "        1.4341e-01,  3.0447e-01,  1.7679e-01, -2.0325e-01, -8.6745e-02,\n",
       "       -5.9375e-02,  1.0775e-01,  2.6919e-01,  3.6491e-02,  1.2037e-01,\n",
       "       -1.8979e-01,  1.9414e-01, -1.8552e-02, -4.5914e-01,  1.2681e-01,\n",
       "       -5.4521e-02, -2.2054e-01,  1.1147e-01,  8.4313e-03,  2.0667e-01,\n",
       "        3.1060e-01, -9.2659e-02,  3.1766e-01,  1.6209e-01,  4.5862e-01,\n",
       "        1.1182e-04, -8.8286e-02, -3.7030e-01,  5.3689e-02,  7.9508e-01,\n",
       "       -2.4994e-01,  4.3256e-01,  8.8471e-02,  4.1864e-01,  1.1771e-01,\n",
       "        4.6896e-02,  5.3549e-01, -8.6838e-01,  1.5809e-01,  4.9917e-01,\n",
       "        2.6179e-01,  5.2140e-01,  3.5645e-01,  1.4372e-01, -3.6987e-01,\n",
       "       -1.4000e-01, -6.2828e-01, -3.1675e-01, -1.9247e-02, -7.4357e-02,\n",
       "        2.0714e-01, -1.5843e-01, -2.9743e-01, -2.1549e-01,  8.0076e-02,\n",
       "        1.1832e+00,  4.8673e-01,  1.4721e-01,  1.2630e-01,  2.6231e-02,\n",
       "        3.6053e-01, -6.8196e-01,  5.5184e-01,  6.1528e-02,  3.3425e-03,\n",
       "        4.8489e-02,  1.3825e-01, -1.5156e-01, -6.9840e-02, -9.9947e-02,\n",
       "        2.3865e-01,  1.3611e-01,  2.6055e-01, -4.4013e-02,  2.5868e-02,\n",
       "       -2.7526e-01, -8.4552e-02,  4.6746e-02,  8.6153e-02, -1.8508e-01,\n",
       "       -9.3114e-02, -5.9787e-01, -2.5463e-01,  8.2126e-02, -1.4104e-01,\n",
       "        2.4358e-01, -2.4225e-01,  2.9690e-01, -1.6202e-01,  6.0339e-01,\n",
       "       -2.0813e+00,  5.5412e-01,  7.6675e-01, -1.9920e-01,  3.2305e-01,\n",
       "       -1.7755e-01, -1.6761e-01,  3.8451e-01, -3.4128e-01,  3.8295e-02,\n",
       "       -2.0701e-01,  8.7338e-01, -2.2934e-01, -1.4054e-01,  4.9033e-01,\n",
       "       -3.6845e-01,  2.6926e-01, -4.0554e-01,  3.4307e-01, -1.7314e-01,\n",
       "        1.8955e-01, -1.5305e-01, -7.7203e-02, -3.4467e-01,  9.9602e-02,\n",
       "        2.4910e-01, -1.5662e-01, -1.4328e-01,  3.2020e-02,  5.7149e-01,\n",
       "       -9.7738e-03, -8.4682e-02, -3.1799e-01,  1.0101e-01, -1.6099e-01,\n",
       "        6.6370e-02,  2.5543e-01,  1.5427e-01, -3.7382e-01, -1.0029e-01,\n",
       "       -2.4851e-01, -9.9441e-02, -1.6696e-01, -2.5520e-01, -2.6483e-01,\n",
       "       -5.4984e-01, -4.7636e-01, -3.0128e-01,  1.9842e-01,  6.2700e-02,\n",
       "       -1.1024e-01, -2.1813e-01,  3.3200e-01,  2.7030e-01,  2.4467e-02,\n",
       "        2.2990e-01,  2.9060e-03, -3.2990e-01,  7.4210e-01,  1.7305e-01,\n",
       "       -3.4286e-01,  1.0717e-01,  2.5081e-01, -5.1652e-02,  2.1430e-01,\n",
       "        5.6340e-02, -5.5078e-02,  2.3547e-01,  9.8905e-02, -4.9870e-01,\n",
       "       -4.0825e-02, -4.3741e-01, -1.5599e-01,  1.2596e-01, -5.2259e-03,\n",
       "        4.2925e-01,  3.7281e-01, -5.4302e-02, -5.4095e-01,  3.6250e-01,\n",
       "       -3.0536e-01,  1.4411e-01, -2.7903e-01,  4.5630e-02,  2.7276e-01,\n",
       "       -4.9394e-02, -3.0396e-01,  5.3267e-01, -6.6274e-03, -1.0888e-01,\n",
       "        1.2579e-01, -3.4876e-01, -1.7502e-01, -2.6133e-02,  2.5876e-02,\n",
       "        4.6289e-01, -1.1516e-01, -1.9461e-01, -1.7781e-01, -1.8374e-01,\n",
       "        2.0147e-01, -2.1280e-01, -1.5289e-01,  1.7298e-01,  2.2503e-01,\n",
       "       -9.5777e-02, -7.4261e-02,  5.2321e-02,  1.6853e-01,  5.8565e-01,\n",
       "        2.7345e-02,  1.2770e-01, -4.0630e-01, -1.3299e-01, -2.1093e-01,\n",
       "        5.9611e-01,  1.7409e-01,  1.2483e-01, -1.5014e-01, -4.6455e-02,\n",
       "       -1.0728e-02, -1.4175e-01, -3.8314e-01,  4.1410e-02, -2.5619e-01,\n",
       "       -4.2536e-02,  3.5050e-01, -2.4369e-01,  5.3533e-01,  2.5372e-01,\n",
       "       -5.9328e-01, -1.6591e-02, -7.2031e-01,  9.2813e-02, -4.5688e-01,\n",
       "       -1.0833e-01, -3.8946e-02, -3.5834e-02,  2.0215e-01,  4.0055e-01,\n",
       "        3.7802e-01, -1.2920e-01, -9.1766e-03, -1.0482e-02,  4.3290e-02,\n",
       "        1.3123e-01,  3.3219e-01,  1.5346e-01,  3.5997e-02, -8.3019e-03,\n",
       "       -3.8645e-01, -1.5056e-01, -3.2827e-02, -1.0529e-01,  2.8397e-01,\n",
       "       -2.5500e-01,  1.5195e-01, -1.7859e-01, -6.2878e-02,  1.6232e-01],\n",
       "      dtype=float32)"
      ]
     },

     "execution_count": 18,

     "metadata": {},
     "output_type": "execute_result"
    }
   ],
   "source": [
    "doc[2].vector"
   ]
  },
  {
   "cell_type": "markdown",
   "metadata": {},
   "source": [
    "So we tokenized a python native string, let's now do the same with a PySyft `String`."
   ]
  },
  {
   "cell_type": "markdown",
   "metadata": {},
   "source": [
    "-----------------------\n",
    "\n",
    "## 3. Tokenizing a PySyft `String` object\n",
    "\n",
    "-------------------"
   ]
  },
  {
   "cell_type": "markdown",
   "metadata": {},
   "source": [
    "PySyft has its own string type which is basically a wrapper around the native `str` type with additional PySyft magic such as the ability to send a string to a remote worker and to manipulate it from the comfort of the local worker. We are not going to discuss this here since we are only doing local string tokenization. \n",
    "\n",
    "Let's import the PySyft's `String` class:"
   ]
  },
  {
   "cell_type": "code",

   "execution_count": 19,

   "metadata": {},
   "outputs": [],
   "source": [
    "from syft.generic.string import String"
   ]
  },
  {
   "cell_type": "markdown",
   "metadata": {},
   "source": [
    "Let's now define a PySyft `String` to tokenize:"
   ]
  },
  {
   "cell_type": "code",

   "execution_count": 20,

   "metadata": {},
   "outputs": [
    {
     "data": {
      "text/plain": [
       "(syft.generic.string.String, <VirtualWorker id:me #objects:0>)"
      ]
     },

     "execution_count": 20,

     "metadata": {},
     "output_type": "execute_result"
    }
   ],
   "source": [
    "my_string = String('I am token#izing a PySyft String object')\n",
    "\n",
    "type(my_string), my_string.owner"
   ]
  },
  {
   "cell_type": "markdown",
   "metadata": {},
   "source": [
    "Notice that the PySyft `String` is owned by the local worker."
   ]
  },
  {
   "cell_type": "markdown",
   "metadata": {},
   "source": [
    "Let's now use the `Language` object we created earlier to tokenize it:"
   ]
  },
  {
   "cell_type": "code",

   "execution_count": 21,

   "metadata": {},
   "outputs": [
    {
     "name": "stdout",
     "output_type": "stream",
     "text": [
      "         I |  True | 5943131912006430202\n",
      "        am |  True | 11728213064939857863\n",
      "token#izing |  True | 5371500643362927579\n",
      "         a |  True | 5182201742351716208\n",
      "    PySyft |  True | 13286865392898898656\n",
      "    String |  True | 13847508276233069841\n",
      "    object | False | 10176415242575268008\n"
     ]
    }
   ],
   "source": [
    "doc = nlp(my_string)\n",
    "\n",
    "for token in doc:\n",
    "    print('%10s | %5s | %s'%(token, token.space_after, token.orth))"
   ]
  },
  {
   "cell_type": "markdown",
   "metadata": {},
   "source": [
    "You will also be able to get the embedding vector using the `vector` attribute. Pretty convenient right? Using either a PySyft `string` or a `str` object does not change the way SyferText is used."
   ]
  },
  {
   "cell_type": "markdown",
   "metadata": {},
   "source": [
    "### That's it!"
   ]
  },
  {
   "cell_type": "markdown",
   "metadata": {},
   "source": [
    "You should have a better sense of how SyferText works on a local worker by now. However, keep in mind that SyferText is still in its early developement phase. Things are evolving and more features will be added soon."
   ]
  },
  {
   "cell_type": "markdown",
   "metadata": {},
   "source": [
    "If you have any questions or suggestions, you can DM me on OpenMined's [slack channel](http://slack.openmined.org/), or otherwise directly on my [Twitter page](https://twitter.com/alan_aboudib)."
   ]
  }
 ],
 "metadata": {
  "kernelspec": {
   "display_name": "Python 3",
   "language": "python",
   "name": "python3"
  },
  "language_info": {
   "codemirror_mode": {
    "name": "ipython",
    "version": 3
   },
   "file_extension": ".py",
   "mimetype": "text/x-python",
   "name": "python",
   "nbconvert_exporter": "python",
   "pygments_lexer": "ipython3",
   "version": "3.6.9"
  }
 },
 "nbformat": 4,
 "nbformat_minor": 4
}
