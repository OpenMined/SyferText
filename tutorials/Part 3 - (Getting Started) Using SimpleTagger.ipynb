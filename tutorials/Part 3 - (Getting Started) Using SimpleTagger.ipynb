{
 "nbformat": 4,
 "nbformat_minor": 0,
 "metadata": {
  "kernelspec": {
   "display_name": "Python 3",
   "language": "python",
   "name": "python3"
  },
  "language_info": {
   "codemirror_mode": {
    "name": "ipython",
    "version": 3
   },
   "file_extension": ".py",
   "mimetype": "text/x-python",
   "name": "python",
   "nbconvert_exporter": "python",
   "pygments_lexer": "ipython3",
   "version": "3.7.4"
  },
  "colab": {
   "name": "Part 3 - (Getting Started) Using SimpleTagger.ipynb",
   "provenance": []
  }
 },
 "cells": [
  {
   "cell_type": "markdown",
   "metadata": {
    "id": "H3RxK_9yHTAs",
    "colab_type": "text"
   },
   "source": [
    "# Getting Started: SimpleTagger\n",
    "----------"
   ]
  },
  {
   "cell_type": "markdown",
   "metadata": {
    "id": "8VJmSv8vHTAu",
    "colab_type": "text"
   },
   "source": [
    "In this tutorial, you will learn about how to use the `SimpleTagger` pipeline component that enables token level\n",
    "tagging with custom attributes and custom labels. Today we'll focus on tagging `stop words` and english articles\n",
    "as definite or indefinite to showcase the different setups available for the tagger. The same component could\n",
    "be used for token level polarity tagging or simple forms of NER."
   ]
  },
  {
   "cell_type": "markdown",
   "metadata": {
    "id": "fMpPFm2KHTAw",
    "colab_type": "text"
   },
   "source": [
    "#### Author\n"
   ]
  },
  {
   "cell_type": "markdown",
   "metadata": {
    "id": "NMAOkGH5HTAx",
    "colab_type": "text"
   },
   "source": [
    "- `Antonio Lopardo`  -> [@AntonioLprd](https://twitter.com/AntonioLprd) (Twitter)\n",
    "\n",
    "## 1. Torch hooking and worker setup"
   ]
  },
  {
   "cell_type": "markdown",
   "metadata": {
    "id": "XoTdXqWgHTAz",
    "colab_type": "text"
   },
   "source": [
    "We start by hooking torch with PySyft to add additional functionalities and we create a local worker that will be\n",
    "the owner of the pipeline in which we will run the tagger."
   ]
  },
  {
   "cell_type": "code",
   "metadata": {
    "jupyter": {
     "outputs_hidden": false
    },
    "pycharm": {
     "name": "#%%\n"
    },
    "id": "4H6hIEPQHTA1",
    "colab_type": "code",
    "colab": {
     "base_uri": "https://localhost:8080/",
     "height": 52
    },
    "outputId": "06454494-aaf8-46ec-a8d1-c51478ffa8d7"
   },
   "source": [
    "import torch\n",
    "import spacy #<- We use spacy just to import a list of stop words\n",
    "\n",
    "import syft as sy\n",
    "\n",
    "import syfertext\n",
    "from syfertext.pipeline import SimpleTagger"
   ],
   "execution_count": 1,
   "outputs": [
    {
     "output_type": "stream",
     "text": [
      "WARNING:root:Torch was already hooked... skipping hooking process\n",
      "WARNING:root:Torch was already hooked... skipping hooking process\n"
     ],
     "name": "stderr"
    }
   ]
  },
  {
   "cell_type": "code",
   "metadata": {
    "jupyter": {
     "outputs_hidden": false
    },
    "pycharm": {
     "name": "#%%\n"
    },
    "id": "lByoaeU5HTBA",
    "colab_type": "code",
    "outputId": "02838189-f9c6-40a5-e23d-3d08db4a7c6f",
    "colab": {
     "base_uri": "https://localhost:8080/",
     "height": 34
    }
   },
   "source": [
    "# Create a torch hook for PySyft\n",
    "hook = sy.TorchHook(torch)\n",
    "\n",
    "# Create a PySyft workers\n",
    "me = hook.local_worker #<- This is the worker from which we manage the processing"
   ],
   "execution_count": 2,
   "outputs": [
    {
     "output_type": "stream",
     "text": [
      "WARNING:root:Torch was already hooked... skipping hooking process\n"
     ],
     "name": "stderr"
    }
   ]
  },
  {
   "cell_type": "markdown",
   "metadata": {
    "pycharm": {
     "name": "#%% md\n"
    },
    "id": "uzusEyvsHTBG",
    "colab_type": "text"
   },
   "source": [
    "## 2. Creating a stop-word tagger"
   ]
  },
  {
   "cell_type": "code",
   "metadata": {
    "jupyter": {
     "outputs_hidden": false
    },
    "pycharm": {
     "name": "#%%\n"
    },
    "id": "MQkJY8poHTBI",
    "colab_type": "code",
    "colab": {}
   },
   "source": [
    "#Loading farly extensive list of stop words from one of spacy's models\n",
    "sp = spacy.load('en_core_web_sm')\n",
    "stopwords = sp.Defaults.stop_words"
   ],
   "execution_count": 0,
   "outputs": []
  },
  {
   "cell_type": "markdown",
   "metadata": {
    "pycharm": {
     "name": "#%% md\n"
    },
    "id": "7RoJzcFNHTBN",
    "colab_type": "text"
   },
   "source": [
    "The `SimpleTagger` can be initialized in two ways. We can pass a `set` of tokens in the lookups argument, these tokens \n",
    "should be labeled with the object in the `tag` field and while every other token not included in `set`\n",
    "in `lookups` should be labeled with the `default_tag`. Or `lookups` can be a `dict` where the keys are tokens and the\n",
    "values are their respective tags. In this second case the `default_tag` can also be used for tokens not in the `dict`."
   ]
  },
  {
   "cell_type": "markdown",
   "metadata": {
    "pycharm": {
     "name": "#%% md\n"
    },
    "id": "V3fBDtinHTBP",
    "colab_type": "text"
   },
   "source": [
    "Now let's initialize our `stop_tagger` with the set of stop-words from spacy\n",
    "* `attribute` helps us name the custom attribute we are creating\n",
    "* `lookups` in this case is a set of tokens\n",
    "* `tag` the object with which to tag the tokens in the `lookups` set\n",
    "* `default_tag` the object with which to tag tokens not in `lookups` set\n",
    "* `case_sensitive` a boolean flag that indicates if capitalization should be considered when matching tokens"
   ]
  },
  {
   "cell_type": "code",
   "metadata": {
    "jupyter": {
     "outputs_hidden": false
    },
    "pycharm": {
     "name": "#%%\n"
    },
    "id": "nfxCPdK1HTBP",
    "colab_type": "code",
    "colab": {}
   },
   "source": [
    "stop_tagger = SimpleTagger(attribute = 'is_stop',\n",
    "                           lookups = stopwords,\n",
    "                           tag = True,\n",
    "                           default_tag = False,\n",
    "                           case_sensitive = False\n",
    "                          )"
   ],
   "execution_count": 0,
   "outputs": []
  },
  {
   "cell_type": "markdown",
   "metadata": {
    "pycharm": {
     "name": "#%% md\n"
    },
    "id": "WMqn8ZR5HTBV",
    "colab_type": "text"
   },
   "source": [
    "## 3. Creating a tagger for article type"
   ]
  },
  {
   "cell_type": "markdown",
   "metadata": {
    "id": "L1Y0eGPCHTBW",
    "colab_type": "text"
   },
   "source": [
    "Now let's initialize our `article_tagger` with a `dict` with tokens as keys and tags for the attribute as values\n",
    "* `attribute` helps us name the custom attribute we are creating\n",
    "* `lookups` in this case it is a dictionary\n",
    "* `default_tag` the object with which to tag tokens not in the `lookups` dict\n",
    "* `case_sensitive` a boolean flag that indicates if capitalization should be considered when matching tokens\n"
   ]
  },
  {
   "cell_type": "code",
   "metadata": {
    "jupyter": {
     "outputs_hidden": false
    },
    "pycharm": {
     "name": "#%%\n"
    },
    "id": "Pbrm80VAHTBY",
    "colab_type": "code",
    "colab": {}
   },
   "source": [
    "#define the tags for our dictionary\n",
    "definite = \"definite\"\n",
    "indefinite = \"indefinite\"\n",
    "\n",
    "#Initializing the dict to feed to the SimpleTagger constructor \n",
    "articles_dict = {\"the\": definite, \"a\": indefinite, \"an\": indefinite}\n",
    "\n",
    "article_tagger = SimpleTagger(attribute = 'is_article',\n",
    "                           lookups = articles_dict,\n",
    "                           default_tag = False,\n",
    "                           case_sensitive = False\n",
    "                          )"
   ],
   "execution_count": 0,
   "outputs": []
  },
  {
   "cell_type": "markdown",
   "metadata": {
    "id": "MQAcxbUxHTBc",
    "colab_type": "text"
   },
   "source": [
    "## 4. Pipeline integration\n",
    "Using the add_pipe method it is easy to integrate the new tagger in our nlp pipeline."
   ]
  },
  {
   "cell_type": "code",
   "metadata": {
    "jupyter": {
     "outputs_hidden": false
    },
    "pycharm": {
     "name": "#%%\n"
    },
    "id": "aPbEnz3gHTBd",
    "colab_type": "code",
    "colab": {}
   },
   "source": [
    "#Initialize an nlp pipeline that by default contains a tokenizer.\n",
    "nlp = syfertext.load(\"en_core_web_lg\", owner= me) \n",
    "\n",
    "nlp.add_pipe(name = 'stop tagger',#<- We add the stop tagger to the pipeline with a distinctive name\n",
    "                 component = stop_tagger,\n",
    "                 remote = True\n",
    "                )\n",
    "\n",
    "nlp.add_pipe(name= 'article tagger', #<- We add the article tagger to the pipeline with a distinctive name\n",
    "             component= article_tagger,\n",
    "             remote= True)\n"
   ],
   "execution_count": 0,
   "outputs": []
  },
  {
   "cell_type": "code",
   "metadata": {
    "jupyter": {
     "outputs_hidden": false
    },
    "pycharm": {
     "name": "#%%\n"
    },
    "id": "Hkg4dq0NHTBh",
    "colab_type": "code",
    "outputId": "a4f94319-34aa-4ada-8a11-3e9fc78882d5",
    "colab": {
     "base_uri": "https://localhost:8080/",
     "height": 156
    }
   },
   "source": [
    "test_string = \"thereafter a various group of the people left\"\n",
    "\n",
    "#apply in sequence tokenizer->stop_tagger->article_tagger\n",
    "tagged_test_string = nlp(test_string)\n",
    "\n",
    "for token in tagged_test_string: #<-If the data on which we operate is local we can access the custom attribute using \"._.\"\n",
    "    print('%10s | %5s | %s'%(token, token._.is_stop, token._.is_article))"
   ],
   "execution_count": 7,
   "outputs": [
    {
     "output_type": "stream",
     "text": [
      "thereafter |  True | False\n",
      "         a |  True | indefinite\n",
      "   various |  True | False\n",
      "     group | False | False\n",
      "        of |  True | False\n",
      "       the |  True | definite\n",
      "    people | False | False\n",
      "      left | False | False\n"
     ],
     "name": "stdout"
    }
   ]
  },
  {
   "cell_type": "markdown",
   "metadata": {
    "pycharm": {
     "name": "#%% md\n"
    },
    "id": "22SMX-PnHTBn",
    "colab_type": "text"
   },
   "source": [
    "## And we are done!👍"
   ]
  },
  {
   "cell_type": "markdown",
   "metadata": {
    "id": "XXRyoya5HTBn",
    "colab_type": "text"
   },
   "source": [
    "With the help of `SimpleTagger` now you should be able to tackle most token-level \n",
    "tagging task when using SyferText."
   ]
  },
  {
   "cell_type": "markdown",
   "metadata": {
    "id": "3qiXqPiTHTBo",
    "colab_type": "text"
   },
   "source": [
    "If you have any questions or suggestions, you can find us on OpenMined's [slack channel](http://slack.openmined.org/)\n"
   ]
  }
 ]
}